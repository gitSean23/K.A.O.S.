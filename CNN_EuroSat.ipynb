{
  "nbformat": 4,
  "nbformat_minor": 0,
  "metadata": {
    "colab": {
      "name": "CNN_EuroSat.ipynb",
      "provenance": [],
      "authorship_tag": "ABX9TyMkrl5YPLtC6cEAXY/MZl4A",
      "include_colab_link": true
    },
    "kernelspec": {
      "name": "python3",
      "display_name": "Python 3"
    },
    "language_info": {
      "name": "python"
    },
    "accelerator": "GPU"
  },
  "cells": [
    {
      "cell_type": "markdown",
      "metadata": {
        "id": "view-in-github",
        "colab_type": "text"
      },
      "source": [
        "<a href=\"https://colab.research.google.com/github/gitSean23/LandSatClassification/blob/main/CNN_EuroSat.ipynb\" target=\"_parent\"><img src=\"https://colab.research.google.com/assets/colab-badge.svg\" alt=\"Open In Colab\"/></a>"
      ]
    },
    {
      "cell_type": "code",
      "metadata": {
        "id": "FL-RobTqwFlI"
      },
      "source": [
        "%tensorflow_version 2.x"
      ],
      "execution_count": null,
      "outputs": []
    },
    {
      "cell_type": "code",
      "metadata": {
        "id": "VZg7vxM6RQTR"
      },
      "source": [
        "!pip install -q tensorflow-datasets tensorflow"
      ],
      "execution_count": null,
      "outputs": []
    },
    {
      "cell_type": "code",
      "metadata": {
        "id": "SsCtsIqLwSPw"
      },
      "source": [
        "import tensorflow as tf\n",
        "from tensorflow.keras import datasets, layers, models\n",
        "import tensorflow_datasets as tfds\n",
        "import matplotlib.pyplot as plt\n",
        "import numpy as np"
      ],
      "execution_count": null,
      "outputs": []
    },
    {
      "cell_type": "markdown",
      "metadata": {
        "id": "TPDvvMzDnxJ6"
      },
      "source": [
        "# Load and Organize Data"
      ]
    },
    {
      "cell_type": "code",
      "metadata": {
        "id": "fZRqURnAwhEl",
        "colab": {
          "base_uri": "https://localhost:8080/"
        },
        "outputId": "67016282-94ed-4ec8-8893-0956b6e365b7"
      },
      "source": [
        "(ds_train, ds_info) = tfds.load('eurosat', split=['train'], shuffle_files=True, as_supervised=True, with_info=True)\n",
        "class_names = ['Highway', 'Pasture', 'Residential', 'HerbaceousVegetation', 'PermanentCrop', 'SeaLake', 'River', 'Forest']\n",
        "layers.InputSpec(dtype=tf.float32)\n",
        "\n",
        "train_imgs = []\n",
        "train_labels = []\n",
        "\n",
        "for i, j in tfds.as_numpy(ds_train):\n",
        "  #print(type(i), type(j))\n",
        "  train_imgs.append(i)\n",
        "  train_labels.append(j)\n",
        "\n",
        "print(train_imgs[:5])"
      ],
      "execution_count": null,
      "outputs": [
        {
          "output_type": "stream",
          "text": [
            "[array([[[254, 254, 254],\n",
            "        [253, 253, 253],\n",
            "        [254, 254, 254],\n",
            "        ...,\n",
            "        [252, 252, 252],\n",
            "        [250, 250, 250],\n",
            "        [250, 250, 250]],\n",
            "\n",
            "       [[253, 253, 253],\n",
            "        [255, 255, 255],\n",
            "        [253, 253, 253],\n",
            "        ...,\n",
            "        [251, 251, 251],\n",
            "        [251, 251, 251],\n",
            "        [250, 250, 250]],\n",
            "\n",
            "       [[254, 254, 254],\n",
            "        [253, 253, 253],\n",
            "        [254, 254, 254],\n",
            "        ...,\n",
            "        [252, 252, 252],\n",
            "        [250, 250, 250],\n",
            "        [251, 251, 251]],\n",
            "\n",
            "       ...,\n",
            "\n",
            "       [[253, 253, 253],\n",
            "        [252, 252, 252],\n",
            "        [252, 252, 252],\n",
            "        ...,\n",
            "        [249, 249, 249],\n",
            "        [249, 249, 249],\n",
            "        [250, 250, 250]],\n",
            "\n",
            "       [[252, 252, 252],\n",
            "        [252, 252, 252],\n",
            "        [251, 251, 251],\n",
            "        ...,\n",
            "        [248, 248, 248],\n",
            "        [248, 248, 248],\n",
            "        [249, 249, 249]],\n",
            "\n",
            "       [[251, 251, 251],\n",
            "        [252, 252, 252],\n",
            "        [253, 253, 253],\n",
            "        ...,\n",
            "        [248, 248, 248],\n",
            "        [249, 249, 249],\n",
            "        [250, 250, 250]]], dtype=uint8), array([[[254, 254, 254],\n",
            "        [253, 253, 253],\n",
            "        [254, 254, 254],\n",
            "        ...,\n",
            "        [251, 251, 251],\n",
            "        [250, 250, 250],\n",
            "        [250, 250, 250]],\n",
            "\n",
            "       [[254, 254, 254],\n",
            "        [254, 254, 254],\n",
            "        [253, 253, 253],\n",
            "        ...,\n",
            "        [250, 250, 250],\n",
            "        [251, 251, 251],\n",
            "        [249, 249, 249]],\n",
            "\n",
            "       [[254, 254, 254],\n",
            "        [254, 254, 254],\n",
            "        [254, 254, 254],\n",
            "        ...,\n",
            "        [251, 251, 251],\n",
            "        [250, 250, 250],\n",
            "        [252, 252, 252]],\n",
            "\n",
            "       ...,\n",
            "\n",
            "       [[252, 252, 252],\n",
            "        [251, 251, 251],\n",
            "        [252, 252, 252],\n",
            "        ...,\n",
            "        [247, 247, 247],\n",
            "        [249, 249, 249],\n",
            "        [248, 248, 248]],\n",
            "\n",
            "       [[253, 253, 253],\n",
            "        [253, 253, 253],\n",
            "        [251, 251, 251],\n",
            "        ...,\n",
            "        [248, 248, 248],\n",
            "        [248, 248, 248],\n",
            "        [248, 248, 248]],\n",
            "\n",
            "       [[252, 252, 252],\n",
            "        [253, 253, 253],\n",
            "        [252, 252, 252],\n",
            "        ...,\n",
            "        [248, 248, 248],\n",
            "        [247, 247, 247],\n",
            "        [250, 250, 250]]], dtype=uint8), array([[[253, 253, 253],\n",
            "        [253, 253, 253],\n",
            "        [254, 254, 254],\n",
            "        ...,\n",
            "        [242, 242, 242],\n",
            "        [243, 243, 243],\n",
            "        [243, 243, 243]],\n",
            "\n",
            "       [[254, 254, 254],\n",
            "        [253, 253, 253],\n",
            "        [253, 253, 253],\n",
            "        ...,\n",
            "        [241, 241, 241],\n",
            "        [242, 242, 242],\n",
            "        [242, 242, 242]],\n",
            "\n",
            "       [[253, 253, 253],\n",
            "        [254, 254, 254],\n",
            "        [253, 253, 253],\n",
            "        ...,\n",
            "        [241, 241, 241],\n",
            "        [241, 241, 241],\n",
            "        [241, 241, 241]],\n",
            "\n",
            "       ...,\n",
            "\n",
            "       [[252, 252, 252],\n",
            "        [250, 250, 250],\n",
            "        [252, 252, 252],\n",
            "        ...,\n",
            "        [250, 250, 250],\n",
            "        [249, 249, 249],\n",
            "        [250, 250, 250]],\n",
            "\n",
            "       [[252, 252, 252],\n",
            "        [252, 252, 252],\n",
            "        [251, 251, 251],\n",
            "        ...,\n",
            "        [248, 248, 248],\n",
            "        [249, 249, 249],\n",
            "        [249, 249, 249]],\n",
            "\n",
            "       [[252, 252, 252],\n",
            "        [252, 252, 252],\n",
            "        [252, 252, 252],\n",
            "        ...,\n",
            "        [248, 248, 248],\n",
            "        [249, 249, 249],\n",
            "        [251, 251, 251]]], dtype=uint8), array([[[254, 254, 254],\n",
            "        [253, 253, 253],\n",
            "        [254, 254, 254],\n",
            "        ...,\n",
            "        [241, 241, 241],\n",
            "        [241, 241, 241],\n",
            "        [240, 240, 240]],\n",
            "\n",
            "       [[254, 254, 254],\n",
            "        [253, 253, 253],\n",
            "        [253, 253, 253],\n",
            "        ...,\n",
            "        [238, 238, 238],\n",
            "        [238, 238, 238],\n",
            "        [242, 242, 242]],\n",
            "\n",
            "       [[254, 254, 254],\n",
            "        [253, 253, 253],\n",
            "        [253, 253, 253],\n",
            "        ...,\n",
            "        [240, 240, 240],\n",
            "        [239, 239, 239],\n",
            "        [238, 238, 238]],\n",
            "\n",
            "       ...,\n",
            "\n",
            "       [[252, 252, 252],\n",
            "        [250, 250, 250],\n",
            "        [252, 252, 252],\n",
            "        ...,\n",
            "        [250, 250, 250],\n",
            "        [250, 250, 250],\n",
            "        [250, 250, 250]],\n",
            "\n",
            "       [[252, 252, 252],\n",
            "        [252, 252, 252],\n",
            "        [252, 252, 252],\n",
            "        ...,\n",
            "        [248, 248, 248],\n",
            "        [249, 249, 249],\n",
            "        [249, 249, 249]],\n",
            "\n",
            "       [[252, 252, 252],\n",
            "        [252, 252, 252],\n",
            "        [252, 252, 252],\n",
            "        ...,\n",
            "        [248, 248, 248],\n",
            "        [249, 249, 249],\n",
            "        [250, 250, 250]]], dtype=uint8), array([[[255, 255, 255],\n",
            "        [255, 255, 255],\n",
            "        [255, 255, 255],\n",
            "        ...,\n",
            "        [255, 255, 255],\n",
            "        [255, 255, 255],\n",
            "        [255, 255, 255]],\n",
            "\n",
            "       [[255, 255, 255],\n",
            "        [255, 255, 255],\n",
            "        [255, 255, 255],\n",
            "        ...,\n",
            "        [255, 255, 255],\n",
            "        [255, 255, 255],\n",
            "        [255, 255, 255]],\n",
            "\n",
            "       [[255, 255, 255],\n",
            "        [255, 255, 255],\n",
            "        [255, 255, 255],\n",
            "        ...,\n",
            "        [255, 255, 255],\n",
            "        [255, 255, 255],\n",
            "        [255, 255, 255]],\n",
            "\n",
            "       ...,\n",
            "\n",
            "       [[255, 255, 255],\n",
            "        [255, 255, 255],\n",
            "        [255, 255, 255],\n",
            "        ...,\n",
            "        [254, 254, 254],\n",
            "        [254, 254, 254],\n",
            "        [254, 254, 254]],\n",
            "\n",
            "       [[255, 255, 255],\n",
            "        [255, 255, 255],\n",
            "        [255, 255, 255],\n",
            "        ...,\n",
            "        [254, 254, 254],\n",
            "        [254, 254, 254],\n",
            "        [254, 254, 254]],\n",
            "\n",
            "       [[255, 255, 255],\n",
            "        [255, 255, 255],\n",
            "        [255, 255, 255],\n",
            "        ...,\n",
            "        [254, 254, 254],\n",
            "        [254, 254, 254],\n",
            "        [254, 254, 254]]], dtype=uint8)]\n"
          ],
          "name": "stdout"
        }
      ]
    },
    {
      "cell_type": "markdown",
      "metadata": {
        "id": "8RNU2cV9yqiN"
      },
      "source": [
        "# Train Pipline"
      ]
    },
    {
      "cell_type": "code",
      "metadata": {
        "id": "PVBnYp3p2Sai",
        "colab": {
          "base_uri": "https://localhost:8080/"
        },
        "outputId": "3c6bc317-c525-491a-d52d-95ad788d65cd"
      },
      "source": [
        "def normalize_img(image, label):\n",
        "  #Turns the imgs from uint8 values to pixel float32 values\n",
        "  return tf.cast(image, tf.float32) / 255., label\n",
        "\n",
        "tf_train = tf_train.map(normalize_img, num_parallel_calls=tf.data.experimental.AUTOTUNE)\n",
        "tf_train = tf_train.cache()\n",
        "tf_train = tf_train.shuffle(tf_info.splits['train'].num_examples)\n",
        "tf_train = tf_train.batch(32)\n",
        "tf_train = tf_train.prefetch(tf.data.experimental.AUTOTUNE)\n",
        "print(tf_train)"
      ],
      "execution_count": null,
      "outputs": [
        {
          "output_type": "stream",
          "text": [
            "<PrefetchDataset shapes: ((None, 300, 300, 3), (None,)), types: (tf.float32, tf.int64)>\n"
          ],
          "name": "stdout"
        }
      ]
    },
    {
      "cell_type": "markdown",
      "metadata": {
        "id": "eUN2ulp8ym9L"
      },
      "source": [
        "# Test Pipline"
      ]
    },
    {
      "cell_type": "code",
      "metadata": {
        "id": "80FGoS_I3T5H"
      },
      "source": [
        "tf_test = tf_test.map(normalize_img, num_parallel_calls=tf.data.experimental.AUTOTUNE)\n",
        "tf_test = tf_test.batch(32)\n",
        "tf_test = tf_test.cache()\n",
        "tf_test = tf_test.prefetch(tf.data.experimental.AUTOTUNE)"
      ],
      "execution_count": null,
      "outputs": []
    },
    {
      "cell_type": "markdown",
      "metadata": {
        "id": "o6ouioQqyZIO"
      },
      "source": [
        "# Convolutional Neural Network Architecture"
      ]
    },
    {
      "cell_type": "code",
      "metadata": {
        "id": "BQrDd3Mtq2WQ"
      },
      "source": [
        "model = tf.keras.Sequential()\n",
        "model.add(layers.Conv2D(32, (5,5), activation='relu', input_shape=(300,300,3)))\n",
        "model.add(layers.MaxPooling2D(3,3))\n",
        "model.add(layers.Conv2D(64, (5,5), activation='relu'))\n",
        "model.add(layers.MaxPooling2D(3,3))\n",
        "model.add(layers.Conv2D(64, (5,5), activation='relu'))"
      ],
      "execution_count": null,
      "outputs": []
    },
    {
      "cell_type": "code",
      "metadata": {
        "id": "0KDBrejWoKCi"
      },
      "source": [
        "model.add(layers.Flatten())\n",
        "model.add(layers.Dense(32,activation='relu'))\n",
        "model.add(layers.Dense(3)) #3 Classes"
      ],
      "execution_count": null,
      "outputs": []
    },
    {
      "cell_type": "code",
      "metadata": {
        "id": "lKLU3p4OyWQT"
      },
      "source": [
        ""
      ],
      "execution_count": null,
      "outputs": []
    },
    {
      "cell_type": "code",
      "metadata": {
        "colab": {
          "base_uri": "https://localhost:8080/"
        },
        "id": "r7eR4G2DtgLD",
        "outputId": "0efe18c9-d2f9-4d3d-fcfd-f21816c3f9a7"
      },
      "source": [
        "model.summary()"
      ],
      "execution_count": null,
      "outputs": [
        {
          "output_type": "stream",
          "text": [
            "Model: \"sequential\"\n",
            "_________________________________________________________________\n",
            "Layer (type)                 Output Shape              Param #   \n",
            "=================================================================\n",
            "conv2d (Conv2D)              (None, 296, 296, 32)      2432      \n",
            "_________________________________________________________________\n",
            "max_pooling2d (MaxPooling2D) (None, 98, 98, 32)        0         \n",
            "_________________________________________________________________\n",
            "conv2d_1 (Conv2D)            (None, 94, 94, 64)        51264     \n",
            "_________________________________________________________________\n",
            "max_pooling2d_1 (MaxPooling2 (None, 31, 31, 64)        0         \n",
            "_________________________________________________________________\n",
            "conv2d_2 (Conv2D)            (None, 27, 27, 64)        102464    \n",
            "_________________________________________________________________\n",
            "flatten (Flatten)            (None, 46656)             0         \n",
            "_________________________________________________________________\n",
            "dense (Dense)                (None, 32)                1493024   \n",
            "_________________________________________________________________\n",
            "dense_1 (Dense)              (None, 3)                 99        \n",
            "=================================================================\n",
            "Total params: 1,649,283\n",
            "Trainable params: 1,649,283\n",
            "Non-trainable params: 0\n",
            "_________________________________________________________________\n"
          ],
          "name": "stdout"
        }
      ]
    },
    {
      "cell_type": "markdown",
      "metadata": {
        "id": "XYT3wNhRyU9c"
      },
      "source": [
        "# Training"
      ]
    },
    {
      "cell_type": "code",
      "metadata": {
        "colab": {
          "base_uri": "https://localhost:8080/"
        },
        "id": "wTjLNyeptiTy",
        "outputId": "946ddea4-cab9-4815-98ef-6f5e57b6560e"
      },
      "source": [
        "model.compile(optimizer='adam', loss=tf.keras.losses.SparseCategoricalCrossentropy(from_logits=True), metrics=['accuracy'])\n",
        "model.fit(tf_train, epochs=4, validation_data=tf_test)\n"
      ],
      "execution_count": null,
      "outputs": [
        {
          "output_type": "stream",
          "text": [
            "Epoch 1/4\n",
            "79/79 [==============================] - 396s 5s/step - loss: 0.9812 - accuracy: 0.5210 - val_loss: 0.6569 - val_accuracy: 0.6989\n",
            "Epoch 2/4\n",
            "79/79 [==============================] - 384s 5s/step - loss: 0.1713 - accuracy: 0.9381 - val_loss: 0.6947 - val_accuracy: 0.7419\n",
            "Epoch 3/4\n",
            "79/79 [==============================] - 384s 5s/step - loss: 0.0233 - accuracy: 0.9952 - val_loss: 0.8862 - val_accuracy: 0.8118\n",
            "Epoch 4/4\n",
            "79/79 [==============================] - 382s 5s/step - loss: 0.0075 - accuracy: 0.9980 - val_loss: 0.8852 - val_accuracy: 0.8038\n"
          ],
          "name": "stdout"
        },
        {
          "output_type": "execute_result",
          "data": {
            "text/plain": [
              "<keras.callbacks.History at 0x7f2ab3682c10>"
            ]
          },
          "metadata": {
            "tags": []
          },
          "execution_count": 14
        }
      ]
    },
    {
      "cell_type": "markdown",
      "metadata": {
        "id": "tBFGCxAxyJyW"
      },
      "source": [
        "# Testing"
      ]
    },
    {
      "cell_type": "code",
      "metadata": {
        "colab": {
          "base_uri": "https://localhost:8080/"
        },
        "id": "OjN_S6OzNdNp",
        "outputId": "ad5e9fd9-6fab-4907-bb99-43802359463e"
      },
      "source": [
        "loss, acc = model.evaluate(tf_test, verbose=2)\n",
        "print('Test accuracy:', acc)"
      ],
      "execution_count": null,
      "outputs": [
        {
          "output_type": "stream",
          "text": [
            "12/12 - 14s - loss: 0.8852 - accuracy: 0.8038\n",
            "Test accuracy: 0.8037634491920471\n"
          ],
          "name": "stdout"
        }
      ]
    },
    {
      "cell_type": "markdown",
      "metadata": {
        "id": "gH7xu2ocyPGQ"
      },
      "source": [
        "# Saving"
      ]
    },
    {
      "cell_type": "code",
      "metadata": {
        "id": "XfjOhAuhtpMd",
        "colab": {
          "base_uri": "https://localhost:8080/"
        },
        "outputId": "7ac5f607-a036-468a-9d9f-9aa866a2794b"
      },
      "source": [
        "model.save(\"rpsModel.h5\")\n",
        "rpsModel = models.load_model('rpsModel.h5')"
      ],
      "execution_count": null,
      "outputs": [
        {
          "output_type": "stream",
          "text": [
            "WARNING:tensorflow:Compiled the loaded model, but the compiled metrics have yet to be built. `model.compile_metrics` will be empty until you train or evaluate the model.\n"
          ],
          "name": "stdout"
        },
        {
          "output_type": "stream",
          "text": [
            "WARNING:tensorflow:Compiled the loaded model, but the compiled metrics have yet to be built. `model.compile_metrics` will be empty until you train or evaluate the model.\n"
          ],
          "name": "stderr"
        },
        {
          "output_type": "stream",
          "text": [
            "WARNING:tensorflow:No training configuration found in the save file, so the model was *not* compiled. Compile it manually.\n"
          ],
          "name": "stdout"
        },
        {
          "output_type": "stream",
          "text": [
            "WARNING:tensorflow:No training configuration found in the save file, so the model was *not* compiled. Compile it manually.\n"
          ],
          "name": "stderr"
        }
      ]
    },
    {
      "cell_type": "markdown",
      "metadata": {
        "id": "378_1jjDY78j"
      },
      "source": [
        "# Prediction"
      ]
    },
    {
      "cell_type": "code",
      "metadata": {
        "id": "k9gDQfuJ_8Ej",
        "colab": {
          "base_uri": "https://localhost:8080/",
          "height": 644
        },
        "outputId": "f10b9ea6-fc39-418b-e877-b5be12232460"
      },
      "source": [
        "predictUrl = 'https://scienceillustrated.com.au/blog/wp-content/uploads/2012/05/lizardspock.gif' #Ignore some of this code here\n",
        "predictPath = tf.keras.utils.get_file('RockPS', origin=predictUrl)\n",
        "img = tf.keras.preprocessing.image.load_img(predictPath, target_size=(300,300))\n",
        "img_array = tf.keras.preprocessing.image.img_to_array(img)\n",
        "img_array = tf.expand_dims(img_array, axis=0)\n",
        "\n",
        "target = 15 #This code is more important\n",
        "prediction = model.predict(img_array)\n",
        "print('Predicted:',class_names[np.argmax(prediction)])\n",
        "print(\"Expected:\", class_names[test_labels[target]])\n",
        "plt.figure()\n",
        "plt.imshow('https://scienceillustrated.com.au/blog/wp-content/uploads/2012/05/lizardspock.gif')\n",
        "plt.show()"
      ],
      "execution_count": null,
      "outputs": [
        {
          "output_type": "stream",
          "text": [
            "Predicted: scissors\n",
            "Expected: scissors\n"
          ],
          "name": "stdout"
        },
        {
          "output_type": "error",
          "ename": "TypeError",
          "evalue": "ignored",
          "traceback": [
            "\u001b[0;31m---------------------------------------------------------------------------\u001b[0m",
            "\u001b[0;31mTypeError\u001b[0m                                 Traceback (most recent call last)",
            "\u001b[0;32m<ipython-input-21-01c83e343f95>\u001b[0m in \u001b[0;36m<module>\u001b[0;34m()\u001b[0m\n\u001b[1;32m     10\u001b[0m \u001b[0mprint\u001b[0m\u001b[0;34m(\u001b[0m\u001b[0;34m\"Expected:\"\u001b[0m\u001b[0;34m,\u001b[0m \u001b[0mclass_names\u001b[0m\u001b[0;34m[\u001b[0m\u001b[0mtest_labels\u001b[0m\u001b[0;34m[\u001b[0m\u001b[0mtarget\u001b[0m\u001b[0;34m]\u001b[0m\u001b[0;34m]\u001b[0m\u001b[0;34m)\u001b[0m\u001b[0;34m\u001b[0m\u001b[0;34m\u001b[0m\u001b[0m\n\u001b[1;32m     11\u001b[0m \u001b[0mplt\u001b[0m\u001b[0;34m.\u001b[0m\u001b[0mfigure\u001b[0m\u001b[0;34m(\u001b[0m\u001b[0;34m)\u001b[0m\u001b[0;34m\u001b[0m\u001b[0;34m\u001b[0m\u001b[0m\n\u001b[0;32m---> 12\u001b[0;31m \u001b[0mplt\u001b[0m\u001b[0;34m.\u001b[0m\u001b[0mimshow\u001b[0m\u001b[0;34m(\u001b[0m\u001b[0;34m'https://scienceillustrated.com.au/blog/wp-content/uploads/2012/05/lizardspock.gif'\u001b[0m\u001b[0;34m)\u001b[0m\u001b[0;34m\u001b[0m\u001b[0;34m\u001b[0m\u001b[0m\n\u001b[0m\u001b[1;32m     13\u001b[0m \u001b[0mplt\u001b[0m\u001b[0;34m.\u001b[0m\u001b[0mshow\u001b[0m\u001b[0;34m(\u001b[0m\u001b[0;34m)\u001b[0m\u001b[0;34m\u001b[0m\u001b[0;34m\u001b[0m\u001b[0m\n",
            "\u001b[0;32m/usr/local/lib/python3.7/dist-packages/matplotlib/pyplot.py\u001b[0m in \u001b[0;36mimshow\u001b[0;34m(X, cmap, norm, aspect, interpolation, alpha, vmin, vmax, origin, extent, shape, filternorm, filterrad, imlim, resample, url, data, **kwargs)\u001b[0m\n\u001b[1;32m   2649\u001b[0m         \u001b[0mfilternorm\u001b[0m\u001b[0;34m=\u001b[0m\u001b[0mfilternorm\u001b[0m\u001b[0;34m,\u001b[0m \u001b[0mfilterrad\u001b[0m\u001b[0;34m=\u001b[0m\u001b[0mfilterrad\u001b[0m\u001b[0;34m,\u001b[0m \u001b[0mimlim\u001b[0m\u001b[0;34m=\u001b[0m\u001b[0mimlim\u001b[0m\u001b[0;34m,\u001b[0m\u001b[0;34m\u001b[0m\u001b[0;34m\u001b[0m\u001b[0m\n\u001b[1;32m   2650\u001b[0m         resample=resample, url=url, **({\"data\": data} if data is not\n\u001b[0;32m-> 2651\u001b[0;31m         None else {}), **kwargs)\n\u001b[0m\u001b[1;32m   2652\u001b[0m     \u001b[0msci\u001b[0m\u001b[0;34m(\u001b[0m\u001b[0m__ret\u001b[0m\u001b[0;34m)\u001b[0m\u001b[0;34m\u001b[0m\u001b[0;34m\u001b[0m\u001b[0m\n\u001b[1;32m   2653\u001b[0m     \u001b[0;32mreturn\u001b[0m \u001b[0m__ret\u001b[0m\u001b[0;34m\u001b[0m\u001b[0;34m\u001b[0m\u001b[0m\n",
            "\u001b[0;32m/usr/local/lib/python3.7/dist-packages/matplotlib/__init__.py\u001b[0m in \u001b[0;36minner\u001b[0;34m(ax, data, *args, **kwargs)\u001b[0m\n\u001b[1;32m   1563\u001b[0m     \u001b[0;32mdef\u001b[0m \u001b[0minner\u001b[0m\u001b[0;34m(\u001b[0m\u001b[0max\u001b[0m\u001b[0;34m,\u001b[0m \u001b[0;34m*\u001b[0m\u001b[0margs\u001b[0m\u001b[0;34m,\u001b[0m \u001b[0mdata\u001b[0m\u001b[0;34m=\u001b[0m\u001b[0;32mNone\u001b[0m\u001b[0;34m,\u001b[0m \u001b[0;34m**\u001b[0m\u001b[0mkwargs\u001b[0m\u001b[0;34m)\u001b[0m\u001b[0;34m:\u001b[0m\u001b[0;34m\u001b[0m\u001b[0;34m\u001b[0m\u001b[0m\n\u001b[1;32m   1564\u001b[0m         \u001b[0;32mif\u001b[0m \u001b[0mdata\u001b[0m \u001b[0;32mis\u001b[0m \u001b[0;32mNone\u001b[0m\u001b[0;34m:\u001b[0m\u001b[0;34m\u001b[0m\u001b[0;34m\u001b[0m\u001b[0m\n\u001b[0;32m-> 1565\u001b[0;31m             \u001b[0;32mreturn\u001b[0m \u001b[0mfunc\u001b[0m\u001b[0;34m(\u001b[0m\u001b[0max\u001b[0m\u001b[0;34m,\u001b[0m \u001b[0;34m*\u001b[0m\u001b[0mmap\u001b[0m\u001b[0;34m(\u001b[0m\u001b[0msanitize_sequence\u001b[0m\u001b[0;34m,\u001b[0m \u001b[0margs\u001b[0m\u001b[0;34m)\u001b[0m\u001b[0;34m,\u001b[0m \u001b[0;34m**\u001b[0m\u001b[0mkwargs\u001b[0m\u001b[0;34m)\u001b[0m\u001b[0;34m\u001b[0m\u001b[0;34m\u001b[0m\u001b[0m\n\u001b[0m\u001b[1;32m   1566\u001b[0m \u001b[0;34m\u001b[0m\u001b[0m\n\u001b[1;32m   1567\u001b[0m         \u001b[0mbound\u001b[0m \u001b[0;34m=\u001b[0m \u001b[0mnew_sig\u001b[0m\u001b[0;34m.\u001b[0m\u001b[0mbind\u001b[0m\u001b[0;34m(\u001b[0m\u001b[0max\u001b[0m\u001b[0;34m,\u001b[0m \u001b[0;34m*\u001b[0m\u001b[0margs\u001b[0m\u001b[0;34m,\u001b[0m \u001b[0;34m**\u001b[0m\u001b[0mkwargs\u001b[0m\u001b[0;34m)\u001b[0m\u001b[0;34m\u001b[0m\u001b[0;34m\u001b[0m\u001b[0m\n",
            "\u001b[0;32m/usr/local/lib/python3.7/dist-packages/matplotlib/cbook/deprecation.py\u001b[0m in \u001b[0;36mwrapper\u001b[0;34m(*args, **kwargs)\u001b[0m\n\u001b[1;32m    356\u001b[0m                 \u001b[0;34mf\"%(removal)s.  If any parameter follows {name!r}, they \"\u001b[0m\u001b[0;34m\u001b[0m\u001b[0;34m\u001b[0m\u001b[0m\n\u001b[1;32m    357\u001b[0m                 f\"should be pass as keyword, not positionally.\")\n\u001b[0;32m--> 358\u001b[0;31m         \u001b[0;32mreturn\u001b[0m \u001b[0mfunc\u001b[0m\u001b[0;34m(\u001b[0m\u001b[0;34m*\u001b[0m\u001b[0margs\u001b[0m\u001b[0;34m,\u001b[0m \u001b[0;34m**\u001b[0m\u001b[0mkwargs\u001b[0m\u001b[0;34m)\u001b[0m\u001b[0;34m\u001b[0m\u001b[0;34m\u001b[0m\u001b[0m\n\u001b[0m\u001b[1;32m    359\u001b[0m \u001b[0;34m\u001b[0m\u001b[0m\n\u001b[1;32m    360\u001b[0m     \u001b[0;32mreturn\u001b[0m \u001b[0mwrapper\u001b[0m\u001b[0;34m\u001b[0m\u001b[0;34m\u001b[0m\u001b[0m\n",
            "\u001b[0;32m/usr/local/lib/python3.7/dist-packages/matplotlib/cbook/deprecation.py\u001b[0m in \u001b[0;36mwrapper\u001b[0;34m(*args, **kwargs)\u001b[0m\n\u001b[1;32m    356\u001b[0m                 \u001b[0;34mf\"%(removal)s.  If any parameter follows {name!r}, they \"\u001b[0m\u001b[0;34m\u001b[0m\u001b[0;34m\u001b[0m\u001b[0m\n\u001b[1;32m    357\u001b[0m                 f\"should be pass as keyword, not positionally.\")\n\u001b[0;32m--> 358\u001b[0;31m         \u001b[0;32mreturn\u001b[0m \u001b[0mfunc\u001b[0m\u001b[0;34m(\u001b[0m\u001b[0;34m*\u001b[0m\u001b[0margs\u001b[0m\u001b[0;34m,\u001b[0m \u001b[0;34m**\u001b[0m\u001b[0mkwargs\u001b[0m\u001b[0;34m)\u001b[0m\u001b[0;34m\u001b[0m\u001b[0;34m\u001b[0m\u001b[0m\n\u001b[0m\u001b[1;32m    359\u001b[0m \u001b[0;34m\u001b[0m\u001b[0m\n\u001b[1;32m    360\u001b[0m     \u001b[0;32mreturn\u001b[0m \u001b[0mwrapper\u001b[0m\u001b[0;34m\u001b[0m\u001b[0;34m\u001b[0m\u001b[0m\n",
            "\u001b[0;32m/usr/local/lib/python3.7/dist-packages/matplotlib/axes/_axes.py\u001b[0m in \u001b[0;36mimshow\u001b[0;34m(self, X, cmap, norm, aspect, interpolation, alpha, vmin, vmax, origin, extent, shape, filternorm, filterrad, imlim, resample, url, **kwargs)\u001b[0m\n\u001b[1;32m   5624\u001b[0m                               resample=resample, **kwargs)\n\u001b[1;32m   5625\u001b[0m \u001b[0;34m\u001b[0m\u001b[0m\n\u001b[0;32m-> 5626\u001b[0;31m         \u001b[0mim\u001b[0m\u001b[0;34m.\u001b[0m\u001b[0mset_data\u001b[0m\u001b[0;34m(\u001b[0m\u001b[0mX\u001b[0m\u001b[0;34m)\u001b[0m\u001b[0;34m\u001b[0m\u001b[0;34m\u001b[0m\u001b[0m\n\u001b[0m\u001b[1;32m   5627\u001b[0m         \u001b[0mim\u001b[0m\u001b[0;34m.\u001b[0m\u001b[0mset_alpha\u001b[0m\u001b[0;34m(\u001b[0m\u001b[0malpha\u001b[0m\u001b[0;34m)\u001b[0m\u001b[0;34m\u001b[0m\u001b[0;34m\u001b[0m\u001b[0m\n\u001b[1;32m   5628\u001b[0m         \u001b[0;32mif\u001b[0m \u001b[0mim\u001b[0m\u001b[0;34m.\u001b[0m\u001b[0mget_clip_path\u001b[0m\u001b[0;34m(\u001b[0m\u001b[0;34m)\u001b[0m \u001b[0;32mis\u001b[0m \u001b[0;32mNone\u001b[0m\u001b[0;34m:\u001b[0m\u001b[0;34m\u001b[0m\u001b[0;34m\u001b[0m\u001b[0m\n",
            "\u001b[0;32m/usr/local/lib/python3.7/dist-packages/matplotlib/image.py\u001b[0m in \u001b[0;36mset_data\u001b[0;34m(self, A)\u001b[0m\n\u001b[1;32m    692\u001b[0m                 not np.can_cast(self._A.dtype, float, \"same_kind\")):\n\u001b[1;32m    693\u001b[0m             raise TypeError(\"Image data of dtype {} cannot be converted to \"\n\u001b[0;32m--> 694\u001b[0;31m                             \"float\".format(self._A.dtype))\n\u001b[0m\u001b[1;32m    695\u001b[0m \u001b[0;34m\u001b[0m\u001b[0m\n\u001b[1;32m    696\u001b[0m         if not (self._A.ndim == 2\n",
            "\u001b[0;31mTypeError\u001b[0m: Image data of dtype <U81 cannot be converted to float"
          ]
        },
        {
          "output_type": "display_data",
          "data": {
            "image/png": "[encoded data removed]",
            "text/plain": [
              "<Figure size 432x288 with 1 Axes>"
            ]
          },
          "metadata": {
            "needs_background": "light"
          }
        }
      ]
    },
    {
      "cell_type": "code",
      "metadata": {
        "id": "e2Snc7uTd4dC"
      },
      "source": [
        ""
      ],
      "execution_count": null,
      "outputs": []
    }
  ]
}